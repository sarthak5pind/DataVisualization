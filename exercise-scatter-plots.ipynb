{
 "cells": [
  {
   "cell_type": "markdown",
   "id": "e0f41ccb",
   "metadata": {
    "papermill": {
     "duration": 0.00996,
     "end_time": "2022-08-28T08:32:30.235017",
     "exception": false,
     "start_time": "2022-08-28T08:32:30.225057",
     "status": "completed"
    },
    "tags": []
   },
   "source": [
    "**This notebook is an exercise in the [Data Visualization](https://www.kaggle.com/learn/data-visualization) course.  You can reference the tutorial at [this link](https://www.kaggle.com/alexisbcook/scatter-plots).**\n",
    "\n",
    "---\n"
   ]
  },
  {
   "cell_type": "markdown",
   "id": "fb6a3950",
   "metadata": {
    "papermill": {
     "duration": 0.010229,
     "end_time": "2022-08-28T08:32:30.253672",
     "exception": false,
     "start_time": "2022-08-28T08:32:30.243443",
     "status": "completed"
    },
    "tags": []
   },
   "source": [
    "In this exercise, you will use your new knowledge to propose a solution to a real-world scenario.  To succeed, you will need to import data into Python, answer questions using the data, and generate **scatter plots** to understand patterns in the data.\n",
    "\n",
    "## Scenario\n",
    "\n",
    "You work for a major candy producer, and your goal is to write a report that your company can use to guide the design of its next product.  Soon after starting your research, you stumble across this [very interesting dataset](https://fivethirtyeight.com/features/the-ultimate-halloween-candy-power-ranking/) containing results from a fun survey to crowdsource favorite candies.\n",
    "\n",
    "## Setup\n",
    "\n",
    "Run the next cell to import and configure the Python libraries that you need to complete the exercise."
   ]
  },
  {
   "cell_type": "code",
   "execution_count": 1,
   "id": "37e7eb09",
   "metadata": {
    "execution": {
     "iopub.execute_input": "2022-08-28T08:32:30.274677Z",
     "iopub.status.busy": "2022-08-28T08:32:30.273216Z",
     "iopub.status.idle": "2022-08-28T08:32:31.495055Z",
     "shell.execute_reply": "2022-08-28T08:32:31.493744Z"
    },
    "papermill": {
     "duration": 1.235841,
     "end_time": "2022-08-28T08:32:31.498128",
     "exception": false,
     "start_time": "2022-08-28T08:32:30.262287",
     "status": "completed"
    },
    "tags": []
   },
   "outputs": [
    {
     "name": "stdout",
     "output_type": "stream",
     "text": [
      "Setup Complete\n"
     ]
    }
   ],
   "source": [
    "import pandas as pd\n",
    "pd.plotting.register_matplotlib_converters()\n",
    "import matplotlib.pyplot as plt\n",
    "%matplotlib inline\n",
    "import seaborn as sns\n",
    "print(\"Setup Complete\")"
   ]
  },
  {
   "cell_type": "markdown",
   "id": "2b62789c",
   "metadata": {
    "papermill": {
     "duration": 0.007982,
     "end_time": "2022-08-28T08:32:31.514779",
     "exception": false,
     "start_time": "2022-08-28T08:32:31.506797",
     "status": "completed"
    },
    "tags": []
   },
   "source": [
    "The questions below will give you feedback on your work. Run the following cell to set up our feedback system."
   ]
  },
  {
   "cell_type": "code",
   "execution_count": 2,
   "id": "650687d4",
   "metadata": {
    "execution": {
     "iopub.execute_input": "2022-08-28T08:32:31.533710Z",
     "iopub.status.busy": "2022-08-28T08:32:31.533043Z",
     "iopub.status.idle": "2022-08-28T08:32:31.615451Z",
     "shell.execute_reply": "2022-08-28T08:32:31.614293Z"
    },
    "papermill": {
     "duration": 0.094959,
     "end_time": "2022-08-28T08:32:31.618123",
     "exception": false,
     "start_time": "2022-08-28T08:32:31.523164",
     "status": "completed"
    },
    "tags": []
   },
   "outputs": [
    {
     "name": "stdout",
     "output_type": "stream",
     "text": [
      "Setup Complete\n"
     ]
    }
   ],
   "source": [
    "# Set up code checking\n",
    "import os\n",
    "if not os.path.exists(\"../input/candy.csv\"):\n",
    "    os.symlink(\"../input/data-for-datavis/candy.csv\", \"../input/candy.csv\") \n",
    "from learntools.core import binder\n",
    "binder.bind(globals())\n",
    "from learntools.data_viz_to_coder.ex4 import *\n",
    "print(\"Setup Complete\")"
   ]
  },
  {
   "cell_type": "markdown",
   "id": "30dab56f",
   "metadata": {
    "papermill": {
     "duration": 0.008029,
     "end_time": "2022-08-28T08:32:31.634755",
     "exception": false,
     "start_time": "2022-08-28T08:32:31.626726",
     "status": "completed"
    },
    "tags": []
   },
   "source": [
    "## Step 1: Load the Data\n",
    "\n",
    "Read the candy data file into `candy_data`.  Use the `\"id\"` column to label the rows."
   ]
  },
  {
   "cell_type": "code",
   "execution_count": 3,
   "id": "829bd6b5",
   "metadata": {
    "execution": {
     "iopub.execute_input": "2022-08-28T08:32:31.654287Z",
     "iopub.status.busy": "2022-08-28T08:32:31.652793Z",
     "iopub.status.idle": "2022-08-28T08:32:31.669212Z",
     "shell.execute_reply": "2022-08-28T08:32:31.668331Z"
    },
    "papermill": {
     "duration": 0.028626,
     "end_time": "2022-08-28T08:32:31.671648",
     "exception": false,
     "start_time": "2022-08-28T08:32:31.643022",
     "status": "completed"
    },
    "tags": []
   },
   "outputs": [
    {
     "data": {
      "application/javascript": [
       "parent.postMessage({\"jupyterEvent\": \"custom.exercise_interaction\", \"data\": {\"outcomeType\": 1, \"valueTowardsCompletion\": 0.3333333333333333, \"interactionType\": 1, \"questionType\": 1, \"questionId\": \"1_LoadData\", \"learnToolsVersion\": \"0.3.4\", \"failureMessage\": \"\", \"exceptionClass\": \"\", \"trace\": \"\"}}, \"*\")"
      ],
      "text/plain": [
       "<IPython.core.display.Javascript object>"
      ]
     },
     "metadata": {},
     "output_type": "display_data"
    },
    {
     "data": {
      "text/markdown": [
       "<span style=\"color:#33cc33\">Correct</span>"
      ],
      "text/plain": [
       "Correct"
      ]
     },
     "metadata": {},
     "output_type": "display_data"
    }
   ],
   "source": [
    "# Path of the file to read\n",
    "candy_filepath = \"../input/candy.csv\"\n",
    "\n",
    "# Fill in the line below to read the file into a variable candy_data\n",
    "candy_data = pd.read_csv(candy_filepath,index_col=\"id\")\n",
    "\n",
    "# Run the line below with no changes to check that you've loaded the data correctly\n",
    "step_1.check()"
   ]
  },
  {
   "cell_type": "code",
   "execution_count": 4,
   "id": "7a5fb402",
   "metadata": {
    "execution": {
     "iopub.execute_input": "2022-08-28T08:32:31.692253Z",
     "iopub.status.busy": "2022-08-28T08:32:31.691452Z",
     "iopub.status.idle": "2022-08-28T08:32:31.695692Z",
     "shell.execute_reply": "2022-08-28T08:32:31.694674Z"
    },
    "papermill": {
     "duration": 0.016615,
     "end_time": "2022-08-28T08:32:31.697983",
     "exception": false,
     "start_time": "2022-08-28T08:32:31.681368",
     "status": "completed"
    },
    "tags": []
   },
   "outputs": [],
   "source": [
    "# Lines below will give you a hint or solution code\n",
    "#step_1.hint()\n",
    "#step_1.solution()"
   ]
  },
  {
   "cell_type": "markdown",
   "id": "ec9b938d",
   "metadata": {
    "papermill": {
     "duration": 0.008343,
     "end_time": "2022-08-28T08:32:31.715277",
     "exception": false,
     "start_time": "2022-08-28T08:32:31.706934",
     "status": "completed"
    },
    "tags": []
   },
   "source": [
    "## Step 2: Review the data\n",
    "\n",
    "Use a Python command to print the first five rows of the data."
   ]
  },
  {
   "cell_type": "code",
   "execution_count": 5,
   "id": "82a7f28d",
   "metadata": {
    "execution": {
     "iopub.execute_input": "2022-08-28T08:32:31.734803Z",
     "iopub.status.busy": "2022-08-28T08:32:31.733920Z",
     "iopub.status.idle": "2022-08-28T08:32:31.758534Z",
     "shell.execute_reply": "2022-08-28T08:32:31.757566Z"
    },
    "papermill": {
     "duration": 0.037341,
     "end_time": "2022-08-28T08:32:31.761251",
     "exception": false,
     "start_time": "2022-08-28T08:32:31.723910",
     "status": "completed"
    },
    "tags": []
   },
   "outputs": [
    {
     "data": {
      "text/html": [
       "<div>\n",
       "<style scoped>\n",
       "    .dataframe tbody tr th:only-of-type {\n",
       "        vertical-align: middle;\n",
       "    }\n",
       "\n",
       "    .dataframe tbody tr th {\n",
       "        vertical-align: top;\n",
       "    }\n",
       "\n",
       "    .dataframe thead th {\n",
       "        text-align: right;\n",
       "    }\n",
       "</style>\n",
       "<table border=\"1\" class=\"dataframe\">\n",
       "  <thead>\n",
       "    <tr style=\"text-align: right;\">\n",
       "      <th></th>\n",
       "      <th>competitorname</th>\n",
       "      <th>chocolate</th>\n",
       "      <th>fruity</th>\n",
       "      <th>caramel</th>\n",
       "      <th>peanutyalmondy</th>\n",
       "      <th>nougat</th>\n",
       "      <th>crispedricewafer</th>\n",
       "      <th>hard</th>\n",
       "      <th>bar</th>\n",
       "      <th>pluribus</th>\n",
       "      <th>sugarpercent</th>\n",
       "      <th>pricepercent</th>\n",
       "      <th>winpercent</th>\n",
       "    </tr>\n",
       "    <tr>\n",
       "      <th>id</th>\n",
       "      <th></th>\n",
       "      <th></th>\n",
       "      <th></th>\n",
       "      <th></th>\n",
       "      <th></th>\n",
       "      <th></th>\n",
       "      <th></th>\n",
       "      <th></th>\n",
       "      <th></th>\n",
       "      <th></th>\n",
       "      <th></th>\n",
       "      <th></th>\n",
       "      <th></th>\n",
       "    </tr>\n",
       "  </thead>\n",
       "  <tbody>\n",
       "    <tr>\n",
       "      <th>0</th>\n",
       "      <td>100 Grand</td>\n",
       "      <td>Yes</td>\n",
       "      <td>No</td>\n",
       "      <td>Yes</td>\n",
       "      <td>No</td>\n",
       "      <td>No</td>\n",
       "      <td>Yes</td>\n",
       "      <td>No</td>\n",
       "      <td>Yes</td>\n",
       "      <td>No</td>\n",
       "      <td>0.732</td>\n",
       "      <td>0.860</td>\n",
       "      <td>66.971725</td>\n",
       "    </tr>\n",
       "    <tr>\n",
       "      <th>1</th>\n",
       "      <td>3 Musketeers</td>\n",
       "      <td>Yes</td>\n",
       "      <td>No</td>\n",
       "      <td>No</td>\n",
       "      <td>No</td>\n",
       "      <td>Yes</td>\n",
       "      <td>No</td>\n",
       "      <td>No</td>\n",
       "      <td>Yes</td>\n",
       "      <td>No</td>\n",
       "      <td>0.604</td>\n",
       "      <td>0.511</td>\n",
       "      <td>67.602936</td>\n",
       "    </tr>\n",
       "    <tr>\n",
       "      <th>2</th>\n",
       "      <td>Air Heads</td>\n",
       "      <td>No</td>\n",
       "      <td>Yes</td>\n",
       "      <td>No</td>\n",
       "      <td>No</td>\n",
       "      <td>No</td>\n",
       "      <td>No</td>\n",
       "      <td>No</td>\n",
       "      <td>No</td>\n",
       "      <td>No</td>\n",
       "      <td>0.906</td>\n",
       "      <td>0.511</td>\n",
       "      <td>52.341465</td>\n",
       "    </tr>\n",
       "    <tr>\n",
       "      <th>3</th>\n",
       "      <td>Almond Joy</td>\n",
       "      <td>Yes</td>\n",
       "      <td>No</td>\n",
       "      <td>No</td>\n",
       "      <td>Yes</td>\n",
       "      <td>No</td>\n",
       "      <td>No</td>\n",
       "      <td>No</td>\n",
       "      <td>Yes</td>\n",
       "      <td>No</td>\n",
       "      <td>0.465</td>\n",
       "      <td>0.767</td>\n",
       "      <td>50.347546</td>\n",
       "    </tr>\n",
       "    <tr>\n",
       "      <th>4</th>\n",
       "      <td>Baby Ruth</td>\n",
       "      <td>Yes</td>\n",
       "      <td>No</td>\n",
       "      <td>Yes</td>\n",
       "      <td>Yes</td>\n",
       "      <td>Yes</td>\n",
       "      <td>No</td>\n",
       "      <td>No</td>\n",
       "      <td>Yes</td>\n",
       "      <td>No</td>\n",
       "      <td>0.604</td>\n",
       "      <td>0.767</td>\n",
       "      <td>56.914547</td>\n",
       "    </tr>\n",
       "  </tbody>\n",
       "</table>\n",
       "</div>"
      ],
      "text/plain": [
       "   competitorname chocolate fruity caramel peanutyalmondy nougat  \\\n",
       "id                                                                 \n",
       "0       100 Grand       Yes     No     Yes             No     No   \n",
       "1    3 Musketeers       Yes     No      No             No    Yes   \n",
       "2       Air Heads        No    Yes      No             No     No   \n",
       "3      Almond Joy       Yes     No      No            Yes     No   \n",
       "4       Baby Ruth       Yes     No     Yes            Yes    Yes   \n",
       "\n",
       "   crispedricewafer hard  bar pluribus  sugarpercent  pricepercent  winpercent  \n",
       "id                                                                              \n",
       "0               Yes   No  Yes       No         0.732         0.860   66.971725  \n",
       "1                No   No  Yes       No         0.604         0.511   67.602936  \n",
       "2                No   No   No       No         0.906         0.511   52.341465  \n",
       "3                No   No  Yes       No         0.465         0.767   50.347546  \n",
       "4                No   No  Yes       No         0.604         0.767   56.914547  "
      ]
     },
     "execution_count": 5,
     "metadata": {},
     "output_type": "execute_result"
    }
   ],
   "source": [
    "# Print the first five rows of the data\n",
    "____ # Your code here\n",
    "candy_data.head()"
   ]
  },
  {
   "cell_type": "markdown",
   "id": "8862e4cc",
   "metadata": {
    "papermill": {
     "duration": 0.008654,
     "end_time": "2022-08-28T08:32:31.779364",
     "exception": false,
     "start_time": "2022-08-28T08:32:31.770710",
     "status": "completed"
    },
    "tags": []
   },
   "source": [
    "The dataset contains 83 rows, where each corresponds to a different candy bar.  There are 13 columns:\n",
    "- `'competitorname'` contains the name of the candy bar. \n",
    "- the next **9** columns (from `'chocolate'` to `'pluribus'`) describe the candy.  For instance, rows with chocolate candies have `\"Yes\"` in the `'chocolate'` column (and candies without chocolate have `\"No\"` in the same column).\n",
    "- `'sugarpercent'` provides some indication of the amount of sugar, where higher values signify higher sugar content.\n",
    "- `'pricepercent'` shows the price per unit, relative to the other candies in the dataset.\n",
    "- `'winpercent'` is calculated from the survey results; higher values indicate that the candy was more popular with survey respondents.\n",
    "\n",
    "Use the first five rows of the data to answer the questions below."
   ]
  },
  {
   "cell_type": "code",
   "execution_count": 6,
   "id": "764b9564",
   "metadata": {
    "execution": {
     "iopub.execute_input": "2022-08-28T08:32:31.799796Z",
     "iopub.status.busy": "2022-08-28T08:32:31.798968Z",
     "iopub.status.idle": "2022-08-28T08:32:31.807134Z",
     "shell.execute_reply": "2022-08-28T08:32:31.806274Z"
    },
    "papermill": {
     "duration": 0.021895,
     "end_time": "2022-08-28T08:32:31.810294",
     "exception": false,
     "start_time": "2022-08-28T08:32:31.788399",
     "status": "completed"
    },
    "tags": []
   },
   "outputs": [
    {
     "data": {
      "application/javascript": [
       "parent.postMessage({\"jupyterEvent\": \"custom.exercise_interaction\", \"data\": {\"outcomeType\": 1, \"valueTowardsCompletion\": 0.3333333333333333, \"interactionType\": 1, \"questionType\": 1, \"questionId\": \"2_ReviewData\", \"learnToolsVersion\": \"0.3.4\", \"failureMessage\": \"\", \"exceptionClass\": \"\", \"trace\": \"\"}}, \"*\")"
      ],
      "text/plain": [
       "<IPython.core.display.Javascript object>"
      ]
     },
     "metadata": {},
     "output_type": "display_data"
    },
    {
     "data": {
      "text/markdown": [
       "<span style=\"color:#33cc33\">Correct</span>"
      ],
      "text/plain": [
       "Correct"
      ]
     },
     "metadata": {},
     "output_type": "display_data"
    }
   ],
   "source": [
    "# Fill in the line below: Which candy was more popular with survey respondents:\n",
    "# '3 Musketeers' or 'Almond Joy'?  (Please enclose your answer in single quotes.)\n",
    "more_popular = '3 Musketeers'\n",
    "\n",
    "# Fill in the line below: Which candy has higher sugar content: 'Air Heads'\n",
    "# or 'Baby Ruth'? (Please enclose your answer in single quotes.)\n",
    "more_sugar = 'Air Heads'\n",
    "\n",
    "# Check your answers\n",
    "step_2.check()"
   ]
  },
  {
   "cell_type": "code",
   "execution_count": 7,
   "id": "7b73ed27",
   "metadata": {
    "execution": {
     "iopub.execute_input": "2022-08-28T08:32:31.831259Z",
     "iopub.status.busy": "2022-08-28T08:32:31.830690Z",
     "iopub.status.idle": "2022-08-28T08:32:31.835846Z",
     "shell.execute_reply": "2022-08-28T08:32:31.834455Z"
    },
    "papermill": {
     "duration": 0.018338,
     "end_time": "2022-08-28T08:32:31.838215",
     "exception": false,
     "start_time": "2022-08-28T08:32:31.819877",
     "status": "completed"
    },
    "tags": []
   },
   "outputs": [],
   "source": [
    "# Lines below will give you a hint or solution code\n",
    "#step_2.hint()\n",
    "#step_2.solution()"
   ]
  },
  {
   "cell_type": "markdown",
   "id": "1ade7338",
   "metadata": {
    "papermill": {
     "duration": 0.009604,
     "end_time": "2022-08-28T08:32:31.857231",
     "exception": false,
     "start_time": "2022-08-28T08:32:31.847627",
     "status": "completed"
    },
    "tags": []
   },
   "source": [
    "## Step 3: The role of sugar\n",
    "\n",
    "Do people tend to prefer candies with higher sugar content?  \n",
    "\n",
    "#### Part A\n",
    "\n",
    "Create a scatter plot that shows the relationship between `'sugarpercent'` (on the horizontal x-axis) and `'winpercent'` (on the vertical y-axis).  _Don't add a regression line just yet -- you'll do that in the next step!_"
   ]
  },
  {
   "cell_type": "code",
   "execution_count": 8,
   "id": "76af67b5",
   "metadata": {
    "execution": {
     "iopub.execute_input": "2022-08-28T08:32:31.879212Z",
     "iopub.status.busy": "2022-08-28T08:32:31.877946Z",
     "iopub.status.idle": "2022-08-28T08:32:32.159679Z",
     "shell.execute_reply": "2022-08-28T08:32:32.158557Z"
    },
    "papermill": {
     "duration": 0.295483,
     "end_time": "2022-08-28T08:32:32.162125",
     "exception": false,
     "start_time": "2022-08-28T08:32:31.866642",
     "status": "completed"
    },
    "tags": []
   },
   "outputs": [
    {
     "data": {
      "application/javascript": [
       "parent.postMessage({\"jupyterEvent\": \"custom.exercise_interaction\", \"data\": {\"outcomeType\": 1, \"valueTowardsCompletion\": 0.3333333333333333, \"interactionType\": 1, \"questionType\": 2, \"questionId\": \"3.1_PlotBlueScatter\", \"learnToolsVersion\": \"0.3.4\", \"failureMessage\": \"\", \"exceptionClass\": \"\", \"trace\": \"\"}}, \"*\")"
      ],
      "text/plain": [
       "<IPython.core.display.Javascript object>"
      ]
     },
     "metadata": {},
     "output_type": "display_data"
    },
    {
     "data": {
      "text/markdown": [
       "<span style=\"color:#33cc33\">Correct</span>"
      ],
      "text/plain": [
       "Correct"
      ]
     },
     "metadata": {},
     "output_type": "display_data"
    },
    {
     "data": {
      "image/png": "[encoded data removed]",
      "text/plain": [
       "<Figure size 432x288 with 1 Axes>"
      ]
     },
     "metadata": {
      "needs_background": "light"
     },
     "output_type": "display_data"
    }
   ],
   "source": [
    "# Scatter plot showing the relationship between 'sugarpercent' and 'winpercent'\n",
    "____ # Your code here\n",
    "sns.scatterplot(x=candy_data['sugarpercent'],y=candy_data['winpercent'])\n",
    "# Check your answer\n",
    "step_3.a.check()"
   ]
  },
  {
   "cell_type": "code",
   "execution_count": 9,
   "id": "e8a2eab8",
   "metadata": {
    "execution": {
     "iopub.execute_input": "2022-08-28T08:32:32.183919Z",
     "iopub.status.busy": "2022-08-28T08:32:32.182972Z",
     "iopub.status.idle": "2022-08-28T08:32:32.187285Z",
     "shell.execute_reply": "2022-08-28T08:32:32.186503Z"
    },
    "papermill": {
     "duration": 0.017847,
     "end_time": "2022-08-28T08:32:32.189783",
     "exception": false,
     "start_time": "2022-08-28T08:32:32.171936",
     "status": "completed"
    },
    "tags": []
   },
   "outputs": [],
   "source": [
    "# Lines below will give you a hint or solution code\n",
    "#step_3.a.hint()\n",
    "#step_3.a.solution_plot()"
   ]
  },
  {
   "cell_type": "markdown",
   "id": "6471ba92",
   "metadata": {
    "papermill": {
     "duration": 0.009408,
     "end_time": "2022-08-28T08:32:32.209140",
     "exception": false,
     "start_time": "2022-08-28T08:32:32.199732",
     "status": "completed"
    },
    "tags": []
   },
   "source": [
    "#### Part B\n",
    "\n",
    "Does the scatter plot show a **strong** correlation between the two variables?  If so, are candies with more sugar relatively more or less popular with the survey respondents?"
   ]
  },
  {
   "cell_type": "code",
   "execution_count": 10,
   "id": "ef445532",
   "metadata": {
    "execution": {
     "iopub.execute_input": "2022-08-28T08:32:32.231716Z",
     "iopub.status.busy": "2022-08-28T08:32:32.230533Z",
     "iopub.status.idle": "2022-08-28T08:32:32.235192Z",
     "shell.execute_reply": "2022-08-28T08:32:32.234375Z"
    },
    "papermill": {
     "duration": 0.018398,
     "end_time": "2022-08-28T08:32:32.237407",
     "exception": false,
     "start_time": "2022-08-28T08:32:32.219009",
     "status": "completed"
    },
    "tags": []
   },
   "outputs": [],
   "source": [
    "#step_3.b.hint()"
   ]
  },
  {
   "cell_type": "code",
   "execution_count": 11,
   "id": "bea58595",
   "metadata": {
    "execution": {
     "iopub.execute_input": "2022-08-28T08:32:32.260012Z",
     "iopub.status.busy": "2022-08-28T08:32:32.259123Z",
     "iopub.status.idle": "2022-08-28T08:32:32.266901Z",
     "shell.execute_reply": "2022-08-28T08:32:32.265920Z"
    },
    "papermill": {
     "duration": 0.021251,
     "end_time": "2022-08-28T08:32:32.269047",
     "exception": false,
     "start_time": "2022-08-28T08:32:32.247796",
     "status": "completed"
    },
    "tags": []
   },
   "outputs": [
    {
     "data": {
      "application/javascript": [
       "parent.postMessage({\"jupyterEvent\": \"custom.exercise_interaction\", \"data\": {\"interactionType\": 3, \"questionType\": 4, \"questionId\": \"3.2_ThinkBlueScatter\", \"learnToolsVersion\": \"0.3.4\", \"valueTowardsCompletion\": 0.0, \"failureMessage\": \"\", \"exceptionClass\": \"\", \"trace\": \"\", \"outcomeType\": 4}}, \"*\")"
      ],
      "text/plain": [
       "<IPython.core.display.Javascript object>"
      ]
     },
     "metadata": {},
     "output_type": "display_data"
    },
    {
     "data": {
      "text/markdown": [
       "<span style=\"color:#33cc99\">Solution:</span> The scatter plot does not show a strong correlation between the two variables. Since there is no clear relationship between the two variables, this tells us that sugar content does not play a strong role in candy popularity."
      ],
      "text/plain": [
       "Solution: The scatter plot does not show a strong correlation between the two variables. Since there is no clear relationship between the two variables, this tells us that sugar content does not play a strong role in candy popularity."
      ]
     },
     "metadata": {},
     "output_type": "display_data"
    }
   ],
   "source": [
    "# Check your answer (Run this code cell to receive credit!)\n",
    "step_3.b.solution()"
   ]
  },
  {
   "cell_type": "markdown",
   "id": "b39473da",
   "metadata": {
    "papermill": {
     "duration": 0.009649,
     "end_time": "2022-08-28T08:32:32.289194",
     "exception": false,
     "start_time": "2022-08-28T08:32:32.279545",
     "status": "completed"
    },
    "tags": []
   },
   "source": [
    "## Step 4: Take a closer look\n",
    "\n",
    "#### Part A\n",
    "\n",
    "Create the same scatter plot you created in **Step 3**, but now with a regression line!"
   ]
  },
  {
   "cell_type": "code",
   "execution_count": 12,
   "id": "ecb8d449",
   "metadata": {
    "execution": {
     "iopub.execute_input": "2022-08-28T08:32:32.311778Z",
     "iopub.status.busy": "2022-08-28T08:32:32.311067Z",
     "iopub.status.idle": "2022-08-28T08:32:32.648143Z",
     "shell.execute_reply": "2022-08-28T08:32:32.647152Z"
    },
    "papermill": {
     "duration": 0.351373,
     "end_time": "2022-08-28T08:32:32.650680",
     "exception": false,
     "start_time": "2022-08-28T08:32:32.299307",
     "status": "completed"
    },
    "tags": []
   },
   "outputs": [
    {
     "data": {
      "application/javascript": [
       "parent.postMessage({\"jupyterEvent\": \"custom.exercise_interaction\", \"data\": {\"outcomeType\": 1, \"valueTowardsCompletion\": 0.3333333333333333, \"interactionType\": 1, \"questionType\": 2, \"questionId\": \"4.1_PlotBlueReg\", \"learnToolsVersion\": \"0.3.4\", \"failureMessage\": \"\", \"exceptionClass\": \"\", \"trace\": \"\"}}, \"*\")"
      ],
      "text/plain": [
       "<IPython.core.display.Javascript object>"
      ]
     },
     "metadata": {},
     "output_type": "display_data"
    },
    {
     "data": {
      "text/markdown": [
       "<span style=\"color:#33cc33\">Correct</span>"
      ],
      "text/plain": [
       "Correct"
      ]
     },
     "metadata": {},
     "output_type": "display_data"
    },
    {
     "data": {
      "image/png": "[encoded data removed]",
      "text/plain": [
       "<Figure size 432x288 with 1 Axes>"
      ]
     },
     "metadata": {
      "needs_background": "light"
     },
     "output_type": "display_data"
    }
   ],
   "source": [
    "# Scatter plot w/ regression line showing the relationship between 'sugarpercent' and 'winpercent'\n",
    "____ # Your code here\n",
    "sns.regplot(x=candy_data['sugarpercent'], y=candy_data['winpercent'])\n",
    "# Check your answer\n",
    "step_4.a.check()"
   ]
  },
  {
   "cell_type": "code",
   "execution_count": 13,
   "id": "1e51b753",
   "metadata": {
    "execution": {
     "iopub.execute_input": "2022-08-28T08:32:32.673640Z",
     "iopub.status.busy": "2022-08-28T08:32:32.673217Z",
     "iopub.status.idle": "2022-08-28T08:32:32.677971Z",
     "shell.execute_reply": "2022-08-28T08:32:32.676558Z"
    },
    "papermill": {
     "duration": 0.018953,
     "end_time": "2022-08-28T08:32:32.680342",
     "exception": false,
     "start_time": "2022-08-28T08:32:32.661389",
     "status": "completed"
    },
    "tags": []
   },
   "outputs": [],
   "source": [
    "# Lines below will give you a hint or solution code\n",
    "#step_4.a.hint()\n",
    "#step_4.a.solution_plot()"
   ]
  },
  {
   "cell_type": "markdown",
   "id": "2b8ca44a",
   "metadata": {
    "papermill": {
     "duration": 0.010837,
     "end_time": "2022-08-28T08:32:32.701944",
     "exception": false,
     "start_time": "2022-08-28T08:32:32.691107",
     "status": "completed"
    },
    "tags": []
   },
   "source": [
    "#### Part B\n",
    "\n",
    "According to the plot above, is there a **slight** correlation between `'winpercent'` and `'sugarpercent'`?  What does this tell you about the candy that people tend to prefer?"
   ]
  },
  {
   "cell_type": "code",
   "execution_count": 14,
   "id": "6c599537",
   "metadata": {
    "execution": {
     "iopub.execute_input": "2022-08-28T08:32:32.726046Z",
     "iopub.status.busy": "2022-08-28T08:32:32.725164Z",
     "iopub.status.idle": "2022-08-28T08:32:32.730034Z",
     "shell.execute_reply": "2022-08-28T08:32:32.729020Z"
    },
    "papermill": {
     "duration": 0.019692,
     "end_time": "2022-08-28T08:32:32.732281",
     "exception": false,
     "start_time": "2022-08-28T08:32:32.712589",
     "status": "completed"
    },
    "tags": []
   },
   "outputs": [],
   "source": [
    "#step_4.b.hint()"
   ]
  },
  {
   "cell_type": "code",
   "execution_count": 15,
   "id": "62d15234",
   "metadata": {
    "execution": {
     "iopub.execute_input": "2022-08-28T08:32:32.757839Z",
     "iopub.status.busy": "2022-08-28T08:32:32.756646Z",
     "iopub.status.idle": "2022-08-28T08:32:32.765141Z",
     "shell.execute_reply": "2022-08-28T08:32:32.764235Z"
    },
    "papermill": {
     "duration": 0.02389,
     "end_time": "2022-08-28T08:32:32.767472",
     "exception": false,
     "start_time": "2022-08-28T08:32:32.743582",
     "status": "completed"
    },
    "tags": []
   },
   "outputs": [
    {
     "data": {
      "application/javascript": [
       "parent.postMessage({\"jupyterEvent\": \"custom.exercise_interaction\", \"data\": {\"interactionType\": 3, \"questionType\": 4, \"questionId\": \"4.2_ThinkBlueReg\", \"learnToolsVersion\": \"0.3.4\", \"valueTowardsCompletion\": 0.0, \"failureMessage\": \"\", \"exceptionClass\": \"\", \"trace\": \"\", \"outcomeType\": 4}}, \"*\")"
      ],
      "text/plain": [
       "<IPython.core.display.Javascript object>"
      ]
     },
     "metadata": {},
     "output_type": "display_data"
    },
    {
     "data": {
      "text/markdown": [
       "<span style=\"color:#33cc99\">Solution:</span> Since the regression line has a slightly positive slope, this tells us that there is a slightly positive correlation between `'winpercent'` and `'sugarpercent'`. Thus, people have a slight preference for candies containing relatively more sugar."
      ],
      "text/plain": [
       "Solution: Since the regression line has a slightly positive slope, this tells us that there is a slightly positive correlation between `'winpercent'` and `'sugarpercent'`. Thus, people have a slight preference for candies containing relatively more sugar."
      ]
     },
     "metadata": {},
     "output_type": "display_data"
    }
   ],
   "source": [
    "# Check your answer (Run this code cell to receive credit!)\n",
    "\n",
    "step_4.b.solution()"
   ]
  },
  {
   "cell_type": "markdown",
   "id": "6aeea4e4",
   "metadata": {
    "papermill": {
     "duration": 0.01051,
     "end_time": "2022-08-28T08:32:32.789166",
     "exception": false,
     "start_time": "2022-08-28T08:32:32.778656",
     "status": "completed"
    },
    "tags": []
   },
   "source": [
    "## Step 5: Chocolate!\n",
    "\n",
    "In the code cell below, create a scatter plot to show the relationship between `'pricepercent'` (on the horizontal x-axis) and `'winpercent'` (on the vertical y-axis). Use the `'chocolate'` column to color-code the points.  _Don't add any regression lines just yet -- you'll do that in the next step!_"
   ]
  },
  {
   "cell_type": "code",
   "execution_count": 16,
   "id": "1691ca16",
   "metadata": {
    "execution": {
     "iopub.execute_input": "2022-08-28T08:32:32.813825Z",
     "iopub.status.busy": "2022-08-28T08:32:32.812805Z",
     "iopub.status.idle": "2022-08-28T08:32:33.130255Z",
     "shell.execute_reply": "2022-08-28T08:32:33.129433Z"
    },
    "papermill": {
     "duration": 0.33235,
     "end_time": "2022-08-28T08:32:33.132487",
     "exception": false,
     "start_time": "2022-08-28T08:32:32.800137",
     "status": "completed"
    },
    "tags": []
   },
   "outputs": [
    {
     "data": {
      "application/javascript": [
       "parent.postMessage({\"jupyterEvent\": \"custom.exercise_interaction\", \"data\": {\"outcomeType\": 1, \"valueTowardsCompletion\": 0.3333333333333333, \"interactionType\": 1, \"questionType\": 2, \"questionId\": \"5_ColorScatter\", \"learnToolsVersion\": \"0.3.4\", \"failureMessage\": \"\", \"exceptionClass\": \"\", \"trace\": \"\"}}, \"*\")"
      ],
      "text/plain": [
       "<IPython.core.display.Javascript object>"
      ]
     },
     "metadata": {},
     "output_type": "display_data"
    },
    {
     "data": {
      "text/markdown": [
       "<span style=\"color:#33cc33\">Correct</span>"
      ],
      "text/plain": [
       "Correct"
      ]
     },
     "metadata": {},
     "output_type": "display_data"
    },
    {
     "data": {
      "image/png": "[encoded data removed]",
      "text/plain": [
       "<Figure size 432x288 with 1 Axes>"
      ]
     },
     "metadata": {
      "needs_background": "light"
     },
     "output_type": "display_data"
    }
   ],
   "source": [
    "# Scatter plot showing the relationship between 'pricepercent', 'winpercent', and 'chocolate'\n",
    "____ # Your code here\n",
    "sns.scatterplot(x=candy_data['sugarpercent'],y=candy_data['winpercent'],hue=candy_data[\"chocolate\"])\n",
    "\n",
    "# Check your answer\n",
    "step_5.check()"
   ]
  },
  {
   "cell_type": "code",
   "execution_count": 17,
   "id": "c5341169",
   "metadata": {
    "execution": {
     "iopub.execute_input": "2022-08-28T08:32:33.158365Z",
     "iopub.status.busy": "2022-08-28T08:32:33.157459Z",
     "iopub.status.idle": "2022-08-28T08:32:33.162716Z",
     "shell.execute_reply": "2022-08-28T08:32:33.161465Z"
    },
    "papermill": {
     "duration": 0.021049,
     "end_time": "2022-08-28T08:32:33.165191",
     "exception": false,
     "start_time": "2022-08-28T08:32:33.144142",
     "status": "completed"
    },
    "tags": []
   },
   "outputs": [],
   "source": [
    "# Lines below will give you a hint or solution code\n",
    "#step_5.hint()\n",
    "#step_5.solution_plot()"
   ]
  },
  {
   "cell_type": "markdown",
   "id": "8ce70b7e",
   "metadata": {
    "papermill": {
     "duration": 0.011392,
     "end_time": "2022-08-28T08:32:33.189457",
     "exception": false,
     "start_time": "2022-08-28T08:32:33.178065",
     "status": "completed"
    },
    "tags": []
   },
   "source": [
    "Can you see any interesting patterns in the scatter plot?  We'll investigate this plot further  by adding regression lines in the next step!\n",
    "\n",
    "## Step 6: Investigate chocolate\n",
    "\n",
    "#### Part A\n",
    "\n",
    "Create the same scatter plot you created in **Step 5**, but now with two regression lines, corresponding to (1) chocolate candies and (2) candies without chocolate."
   ]
  },
  {
   "cell_type": "code",
   "execution_count": 18,
   "id": "3fff439c",
   "metadata": {
    "execution": {
     "iopub.execute_input": "2022-08-28T08:32:33.214661Z",
     "iopub.status.busy": "2022-08-28T08:32:33.214200Z",
     "iopub.status.idle": "2022-08-28T08:32:33.875877Z",
     "shell.execute_reply": "2022-08-28T08:32:33.874638Z"
    },
    "papermill": {
     "duration": 0.677368,
     "end_time": "2022-08-28T08:32:33.878670",
     "exception": false,
     "start_time": "2022-08-28T08:32:33.201302",
     "status": "completed"
    },
    "tags": []
   },
   "outputs": [
    {
     "data": {
      "application/javascript": [
       "parent.postMessage({\"jupyterEvent\": \"custom.exercise_interaction\", \"data\": {\"outcomeType\": 1, \"valueTowardsCompletion\": 0.3333333333333333, \"interactionType\": 1, \"questionType\": 2, \"questionId\": \"6.1_PlotColorReg\", \"learnToolsVersion\": \"0.3.4\", \"failureMessage\": \"\", \"exceptionClass\": \"\", \"trace\": \"\"}}, \"*\")"
      ],
      "text/plain": [
       "<IPython.core.display.Javascript object>"
      ]
     },
     "metadata": {},
     "output_type": "display_data"
    },
    {
     "data": {
      "text/markdown": [
       "<span style=\"color:#33cc33\">Correct</span>"
      ],
      "text/plain": [
       "Correct"
      ]
     },
     "metadata": {},
     "output_type": "display_data"
    },
    {
     "data": {
      "image/png": "[encoded data removed]",
      "text/plain": [
       "<Figure size 416.375x360 with 1 Axes>"
      ]
     },
     "metadata": {
      "needs_background": "light"
     },
     "output_type": "display_data"
    }
   ],
   "source": [
    "# Color-coded scatter plot w/ regression lines\n",
    "____ # Your code here\n",
    "sns.lmplot(x=\"sugarpercent\", y=\"winpercent\", hue=\"chocolate\", data=candy_data)\n",
    "# Check your answer\n",
    "step_6.a.check()"
   ]
  },
  {
   "cell_type": "code",
   "execution_count": 19,
   "id": "98c897b1",
   "metadata": {
    "execution": {
     "iopub.execute_input": "2022-08-28T08:32:33.906515Z",
     "iopub.status.busy": "2022-08-28T08:32:33.905708Z",
     "iopub.status.idle": "2022-08-28T08:32:33.910533Z",
     "shell.execute_reply": "2022-08-28T08:32:33.909680Z"
    },
    "papermill": {
     "duration": 0.021635,
     "end_time": "2022-08-28T08:32:33.912810",
     "exception": false,
     "start_time": "2022-08-28T08:32:33.891175",
     "status": "completed"
    },
    "tags": []
   },
   "outputs": [],
   "source": [
    "# Lines below will give you a hint or solution code\n",
    "#step_6.a.hint()\n",
    "#step_6.a.solution_plot()"
   ]
  },
  {
   "cell_type": "markdown",
   "id": "16e3e802",
   "metadata": {
    "papermill": {
     "duration": 0.012406,
     "end_time": "2022-08-28T08:32:33.937861",
     "exception": false,
     "start_time": "2022-08-28T08:32:33.925455",
     "status": "completed"
    },
    "tags": []
   },
   "source": [
    "#### Part B\n",
    "\n",
    "Using the regression lines, what conclusions can you draw about the effects of chocolate and price on candy popularity?"
   ]
  },
  {
   "cell_type": "code",
   "execution_count": 20,
   "id": "9f0d5e2e",
   "metadata": {
    "execution": {
     "iopub.execute_input": "2022-08-28T08:32:33.965440Z",
     "iopub.status.busy": "2022-08-28T08:32:33.964676Z",
     "iopub.status.idle": "2022-08-28T08:32:33.969362Z",
     "shell.execute_reply": "2022-08-28T08:32:33.968602Z"
    },
    "papermill": {
     "duration": 0.021607,
     "end_time": "2022-08-28T08:32:33.971746",
     "exception": false,
     "start_time": "2022-08-28T08:32:33.950139",
     "status": "completed"
    },
    "tags": []
   },
   "outputs": [],
   "source": [
    "#step_6.b.hint()"
   ]
  },
  {
   "cell_type": "code",
   "execution_count": 21,
   "id": "ecf88988",
   "metadata": {
    "execution": {
     "iopub.execute_input": "2022-08-28T08:32:33.998605Z",
     "iopub.status.busy": "2022-08-28T08:32:33.997790Z",
     "iopub.status.idle": "2022-08-28T08:32:34.008081Z",
     "shell.execute_reply": "2022-08-28T08:32:34.007162Z"
    },
    "papermill": {
     "duration": 0.026464,
     "end_time": "2022-08-28T08:32:34.010465",
     "exception": false,
     "start_time": "2022-08-28T08:32:33.984001",
     "status": "completed"
    },
    "tags": []
   },
   "outputs": [
    {
     "data": {
      "application/javascript": [
       "parent.postMessage({\"jupyterEvent\": \"custom.exercise_interaction\", \"data\": {\"interactionType\": 3, \"questionType\": 4, \"questionId\": \"6.2_ThinkColorReg\", \"learnToolsVersion\": \"0.3.4\", \"valueTowardsCompletion\": 0.0, \"failureMessage\": \"\", \"exceptionClass\": \"\", \"trace\": \"\", \"outcomeType\": 4}}, \"*\")"
      ],
      "text/plain": [
       "<IPython.core.display.Javascript object>"
      ]
     },
     "metadata": {},
     "output_type": "display_data"
    },
    {
     "data": {
      "text/markdown": [
       "<span style=\"color:#33cc99\">Solution:</span> We'll begin with the regression line for chocolate candies. Since this line has a slightly positive slope, we can say that more expensive chocolate candies tend to be more popular (than relatively cheaper chocolate candies).  Likewise, since the regression line for candies without chocolate has a negative slope, we can say that if candies don't contain chocolate, they tend to be more popular when they are cheaper.  One important note, however, is that the dataset is quite small -- so we shouldn't invest too much trust in these patterns!  To inspire more confidence in the results, we should add more candies to the dataset."
      ],
      "text/plain": [
       "Solution: We'll begin with the regression line for chocolate candies. Since this line has a slightly positive slope, we can say that more expensive chocolate candies tend to be more popular (than relatively cheaper chocolate candies).  Likewise, since the regression line for candies without chocolate has a negative slope, we can say that if candies don't contain chocolate, they tend to be more popular when they are cheaper.  One important note, however, is that the dataset is quite small -- so we shouldn't invest too much trust in these patterns!  To inspire more confidence in the results, we should add more candies to the dataset."
      ]
     },
     "metadata": {},
     "output_type": "display_data"
    }
   ],
   "source": [
    "# Check your answer (Run this code cell to receive credit!)\n",
    "step_6.b.solution()"
   ]
  },
  {
   "cell_type": "markdown",
   "id": "681dc3d3",
   "metadata": {
    "papermill": {
     "duration": 0.012422,
     "end_time": "2022-08-28T08:32:34.035960",
     "exception": false,
     "start_time": "2022-08-28T08:32:34.023538",
     "status": "completed"
    },
    "tags": []
   },
   "source": [
    "## Step 7: Everybody loves chocolate.\n",
    "\n",
    "#### Part A\n",
    "\n",
    "Create a categorical scatter plot to highlight the relationship between `'chocolate'` and `'winpercent'`.  Put `'chocolate'` on the (horizontal) x-axis, and `'winpercent'` on the (vertical) y-axis."
   ]
  },
  {
   "cell_type": "code",
   "execution_count": 22,
   "id": "250936f5",
   "metadata": {
    "execution": {
     "iopub.execute_input": "2022-08-28T08:32:34.064035Z",
     "iopub.status.busy": "2022-08-28T08:32:34.063635Z",
     "iopub.status.idle": "2022-08-28T08:32:34.225807Z",
     "shell.execute_reply": "2022-08-28T08:32:34.224617Z"
    },
    "papermill": {
     "duration": 0.179411,
     "end_time": "2022-08-28T08:32:34.228629",
     "exception": false,
     "start_time": "2022-08-28T08:32:34.049218",
     "status": "completed"
    },
    "tags": []
   },
   "outputs": [
    {
     "data": {
      "application/javascript": [
       "parent.postMessage({\"jupyterEvent\": \"custom.exercise_interaction\", \"data\": {\"outcomeType\": 1, \"valueTowardsCompletion\": 0.3333333333333333, \"interactionType\": 1, \"questionType\": 2, \"questionId\": \"7.1_PlotSwarm\", \"learnToolsVersion\": \"0.3.4\", \"failureMessage\": \"\", \"exceptionClass\": \"\", \"trace\": \"\"}}, \"*\")"
      ],
      "text/plain": [
       "<IPython.core.display.Javascript object>"
      ]
     },
     "metadata": {},
     "output_type": "display_data"
    },
    {
     "data": {
      "text/markdown": [
       "<span style=\"color:#33cc33\">Correct</span>"
      ],
      "text/plain": [
       "Correct"
      ]
     },
     "metadata": {},
     "output_type": "display_data"
    },
    {
     "data": {
      "image/png": "[encoded data removed]",
      "text/plain": [
       "<Figure size 432x288 with 1 Axes>"
      ]
     },
     "metadata": {
      "needs_background": "light"
     },
     "output_type": "display_data"
    }
   ],
   "source": [
    "# Scatter plot showing the relationship between 'chocolate' and 'winpercent'\n",
    "____ # Your code here\n",
    "sns.swarmplot(x=candy_data['chocolate'],\n",
    "              y=candy_data['winpercent'])\n",
    "# Check your answer\n",
    "step_7.a.check()"
   ]
  },
  {
   "cell_type": "code",
   "execution_count": 23,
   "id": "1cdf73ac",
   "metadata": {
    "execution": {
     "iopub.execute_input": "2022-08-28T08:32:34.258119Z",
     "iopub.status.busy": "2022-08-28T08:32:34.257399Z",
     "iopub.status.idle": "2022-08-28T08:32:34.263275Z",
     "shell.execute_reply": "2022-08-28T08:32:34.262427Z"
    },
    "papermill": {
     "duration": 0.023349,
     "end_time": "2022-08-28T08:32:34.265662",
     "exception": false,
     "start_time": "2022-08-28T08:32:34.242313",
     "status": "completed"
    },
    "tags": []
   },
   "outputs": [],
   "source": [
    "# Lines below will give you a hint or solution code\n",
    "#step_7.a.hint()\n",
    "#step_7.a.solution_plot()"
   ]
  },
  {
   "cell_type": "markdown",
   "id": "309f4a8f",
   "metadata": {
    "papermill": {
     "duration": 0.012784,
     "end_time": "2022-08-28T08:32:34.292048",
     "exception": false,
     "start_time": "2022-08-28T08:32:34.279264",
     "status": "completed"
    },
    "tags": []
   },
   "source": [
    "#### Part B\n",
    "\n",
    "You decide to dedicate a section of your report to the fact that chocolate candies tend to be more popular than candies without chocolate.  Which plot is more appropriate to tell this story: the plot from **Step 6**, or the plot from **Step 7**?"
   ]
  },
  {
   "cell_type": "code",
   "execution_count": 24,
   "id": "3295e73a",
   "metadata": {
    "execution": {
     "iopub.execute_input": "2022-08-28T08:32:34.320224Z",
     "iopub.status.busy": "2022-08-28T08:32:34.319524Z",
     "iopub.status.idle": "2022-08-28T08:32:34.323878Z",
     "shell.execute_reply": "2022-08-28T08:32:34.322936Z"
    },
    "papermill": {
     "duration": 0.021358,
     "end_time": "2022-08-28T08:32:34.326439",
     "exception": false,
     "start_time": "2022-08-28T08:32:34.305081",
     "status": "completed"
    },
    "tags": []
   },
   "outputs": [],
   "source": [
    "#step_7.b.hint()"
   ]
  },
  {
   "cell_type": "code",
   "execution_count": 25,
   "id": "abeebb5d",
   "metadata": {
    "execution": {
     "iopub.execute_input": "2022-08-28T08:32:34.355812Z",
     "iopub.status.busy": "2022-08-28T08:32:34.355074Z",
     "iopub.status.idle": "2022-08-28T08:32:34.362332Z",
     "shell.execute_reply": "2022-08-28T08:32:34.361560Z"
    },
    "papermill": {
     "duration": 0.024832,
     "end_time": "2022-08-28T08:32:34.364586",
     "exception": false,
     "start_time": "2022-08-28T08:32:34.339754",
     "status": "completed"
    },
    "tags": []
   },
   "outputs": [
    {
     "data": {
      "application/javascript": [
       "parent.postMessage({\"jupyterEvent\": \"custom.exercise_interaction\", \"data\": {\"interactionType\": 3, \"questionType\": 4, \"questionId\": \"7.2_ThinkSwarm\", \"learnToolsVersion\": \"0.3.4\", \"valueTowardsCompletion\": 0.0, \"failureMessage\": \"\", \"exceptionClass\": \"\", \"trace\": \"\", \"outcomeType\": 4}}, \"*\")"
      ],
      "text/plain": [
       "<IPython.core.display.Javascript object>"
      ]
     },
     "metadata": {},
     "output_type": "display_data"
    },
    {
     "data": {
      "text/markdown": [
       "<span style=\"color:#33cc99\">Solution:</span> In this case, the categorical scatter plot from **Step 7** is the more appropriate plot. While both plots tell the desired story, the plot from **Step 6** conveys far more information that could distract from the main point."
      ],
      "text/plain": [
       "Solution: In this case, the categorical scatter plot from **Step 7** is the more appropriate plot. While both plots tell the desired story, the plot from **Step 6** conveys far more information that could distract from the main point."
      ]
     },
     "metadata": {},
     "output_type": "display_data"
    }
   ],
   "source": [
    "# Check your answer (Run this code cell to receive credit!)\n",
    "step_7.b.solution()"
   ]
  },
  {
   "cell_type": "markdown",
   "id": "fb532030",
   "metadata": {
    "papermill": {
     "duration": 0.013555,
     "end_time": "2022-08-28T08:32:34.392529",
     "exception": false,
     "start_time": "2022-08-28T08:32:34.378974",
     "status": "completed"
    },
    "tags": []
   },
   "source": [
    "## Keep going\n",
    "\n",
    "Explore **[histograms and density plots](https://www.kaggle.com/alexisbcook/distributions)**."
   ]
  },
  {
   "cell_type": "markdown",
   "id": "42e016a0",
   "metadata": {
    "papermill": {
     "duration": 0.013092,
     "end_time": "2022-08-28T08:32:34.419446",
     "exception": false,
     "start_time": "2022-08-28T08:32:34.406354",
     "status": "completed"
    },
    "tags": []
   },
   "source": [
    "---\n",
    "\n",
    "\n",
    "\n",
    "\n",
    "*Have questions or comments? Visit the [course discussion forum](https://www.kaggle.com/learn/data-visualization/discussion) to chat with other learners.*"
   ]
  }
 ],
 "metadata": {
  "kernelspec": {
   "display_name": "Python 3",
   "language": "python",
   "name": "python3"
  },
  "language_info": {
   "codemirror_mode": {
    "name": "ipython",
    "version": 3
   },
   "file_extension": ".py",
   "mimetype": "text/x-python",
   "name": "python",
   "nbconvert_exporter": "python",
   "pygments_lexer": "ipython3",
   "version": "3.7.12"
  },
  "papermill": {
   "default_parameters": {},
   "duration": 14.258828,
   "end_time": "2022-08-28T08:32:35.155881",
   "environment_variables": {},
   "exception": null,
   "input_path": "__notebook__.ipynb",
   "output_path": "__notebook__.ipynb",
   "parameters": {},
   "start_time": "2022-08-28T08:32:20.897053",
   "version": "2.3.4"
  }
 },
 "nbformat": 4,
 "nbformat_minor": 5
}
