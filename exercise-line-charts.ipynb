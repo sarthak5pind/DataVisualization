{
 "cells": [
  {
   "cell_type": "markdown",
   "id": "4bdaa8b8",
   "metadata": {
    "papermill": {
     "duration": 0.006759,
     "end_time": "2022-08-28T07:53:56.902330",
     "exception": false,
     "start_time": "2022-08-28T07:53:56.895571",
     "status": "completed"
    },
    "tags": []
   },
   "source": [
    "**This notebook is an exercise in the [Data Visualization](https://www.kaggle.com/learn/data-visualization) course.  You can reference the tutorial at [this link](https://www.kaggle.com/alexisbcook/line-charts).**\n",
    "\n",
    "---\n"
   ]
  },
  {
   "cell_type": "markdown",
   "id": "e41ba514",
   "metadata": {
    "papermill": {
     "duration": 0.005493,
     "end_time": "2022-08-28T07:53:56.913365",
     "exception": false,
     "start_time": "2022-08-28T07:53:56.907872",
     "status": "completed"
    },
    "tags": []
   },
   "source": [
    "In this exercise, you will use your new knowledge to propose a solution to a real-world scenario. To succeed, you will need to import data into Python, answer questions using the data, and generate **line charts** to understand patterns in the data.\n",
    "\n",
    "## Scenario\n",
    "\n",
    "You have recently been hired to manage the museums in the City of Los Angeles. Your first project focuses on the four museums pictured in the images below.\n",
    "\n",
    "![ex1_museums](https://i.imgur.com/pFYL8J1.png)\n",
    "\n",
    "You will leverage data from the Los Angeles [Data Portal](https://data.lacity.org/) that tracks monthly visitors to each museum.  \n",
    "\n",
    "![ex1_xlsx](https://i.imgur.com/mGWYlym.png)\n",
    "\n",
    "## Setup\n",
    "\n",
    "Run the next cell to import and configure the Python libraries that you need to complete the exercise."
   ]
  },
  {
   "cell_type": "code",
   "execution_count": 1,
   "id": "399d5f10",
   "metadata": {
    "execution": {
     "iopub.execute_input": "2022-08-28T07:53:56.926784Z",
     "iopub.status.busy": "2022-08-28T07:53:56.926185Z",
     "iopub.status.idle": "2022-08-28T07:53:58.030745Z",
     "shell.execute_reply": "2022-08-28T07:53:58.029047Z"
    },
    "papermill": {
     "duration": 1.115048,
     "end_time": "2022-08-28T07:53:58.033911",
     "exception": false,
     "start_time": "2022-08-28T07:53:56.918863",
     "status": "completed"
    },
    "tags": []
   },
   "outputs": [
    {
     "name": "stdout",
     "output_type": "stream",
     "text": [
      "Setup Complete\n"
     ]
    }
   ],
   "source": [
    "import pandas as pd\n",
    "pd.plotting.register_matplotlib_converters()\n",
    "import matplotlib.pyplot as plt\n",
    "%matplotlib inline\n",
    "import seaborn as sns\n",
    "print(\"Setup Complete\")"
   ]
  },
  {
   "cell_type": "markdown",
   "id": "a9e4d457",
   "metadata": {
    "papermill": {
     "duration": 0.005519,
     "end_time": "2022-08-28T07:53:58.045249",
     "exception": false,
     "start_time": "2022-08-28T07:53:58.039730",
     "status": "completed"
    },
    "tags": []
   },
   "source": [
    "The questions below will give you feedback on your work. Run the following cell to set up the feedback system."
   ]
  },
  {
   "cell_type": "code",
   "execution_count": 2,
   "id": "a92872f8",
   "metadata": {
    "execution": {
     "iopub.execute_input": "2022-08-28T07:53:58.057972Z",
     "iopub.status.busy": "2022-08-28T07:53:58.057526Z",
     "iopub.status.idle": "2022-08-28T07:53:58.124740Z",
     "shell.execute_reply": "2022-08-28T07:53:58.123220Z"
    },
    "papermill": {
     "duration": 0.076557,
     "end_time": "2022-08-28T07:53:58.127319",
     "exception": false,
     "start_time": "2022-08-28T07:53:58.050762",
     "status": "completed"
    },
    "tags": []
   },
   "outputs": [
    {
     "name": "stdout",
     "output_type": "stream",
     "text": [
      "Setup Complete\n"
     ]
    }
   ],
   "source": [
    "# Set up code checking\n",
    "import os\n",
    "if not os.path.exists(\"../input/museum_visitors.csv\"):\n",
    "    os.symlink(\"../input/data-for-datavis/museum_visitors.csv\", \"../input/museum_visitors.csv\") \n",
    "from learntools.core import binder\n",
    "binder.bind(globals())\n",
    "from learntools.data_viz_to_coder.ex2 import *\n",
    "print(\"Setup Complete\")"
   ]
  },
  {
   "cell_type": "markdown",
   "id": "35b44660",
   "metadata": {
    "papermill": {
     "duration": 0.005376,
     "end_time": "2022-08-28T07:53:58.138860",
     "exception": false,
     "start_time": "2022-08-28T07:53:58.133484",
     "status": "completed"
    },
    "tags": []
   },
   "source": [
    "## Step 1: Load the data\n",
    "\n",
    "Your first assignment is to read the LA Museum Visitors data file into `museum_data`.  Note that:\n",
    "- The filepath to the dataset is stored as `museum_filepath`.  Please **do not** change the provided value of the filepath.\n",
    "- The name of the column to use as row labels is `\"Date\"`.  (This can be seen in cell A1 when the file is opened in Excel.)\n",
    "\n",
    "To help with this, you may find it useful to revisit some relevant code from the tutorial, which we have pasted below:\n",
    "\n",
    "```python\n",
    "# Path of the file to read\n",
    "spotify_filepath = \"../input/spotify.csv\"\n",
    "\n",
    "# Read the file into a variable spotify_data\n",
    "spotify_data = pd.read_csv(spotify_filepath, index_col=\"Date\", parse_dates=True)\n",
    "```\n",
    "\n",
    "The code you need to write now looks very similar!"
   ]
  },
  {
   "cell_type": "code",
   "execution_count": 3,
   "id": "b419af60",
   "metadata": {
    "execution": {
     "iopub.execute_input": "2022-08-28T07:53:58.152338Z",
     "iopub.status.busy": "2022-08-28T07:53:58.151899Z",
     "iopub.status.idle": "2022-08-28T07:53:58.169689Z",
     "shell.execute_reply": "2022-08-28T07:53:58.168518Z"
    },
    "papermill": {
     "duration": 0.027118,
     "end_time": "2022-08-28T07:53:58.171966",
     "exception": false,
     "start_time": "2022-08-28T07:53:58.144848",
     "status": "completed"
    },
    "tags": []
   },
   "outputs": [
    {
     "data": {
      "application/javascript": [
       "parent.postMessage({\"jupyterEvent\": \"custom.exercise_interaction\", \"data\": {\"outcomeType\": 1, \"valueTowardsCompletion\": 0.3333333333333333, \"interactionType\": 1, \"questionType\": 1, \"questionId\": \"1_LoadMuseumData\", \"learnToolsVersion\": \"0.3.4\", \"failureMessage\": \"\", \"exceptionClass\": \"\", \"trace\": \"\"}}, \"*\")"
      ],
      "text/plain": [
       "<IPython.core.display.Javascript object>"
      ]
     },
     "metadata": {},
     "output_type": "display_data"
    },
    {
     "data": {
      "text/markdown": [
       "<span style=\"color:#33cc33\">Correct</span>"
      ],
      "text/plain": [
       "Correct"
      ]
     },
     "metadata": {},
     "output_type": "display_data"
    }
   ],
   "source": [
    "# Path of the file to read\n",
    "museum_filepath = \"../input/museum_visitors.csv\"\n",
    "\n",
    "# Fill in the line below to read the file into a variable museum_data\n",
    "museum_data = pd.read_csv(museum_filepath,index_col=\"Date\",parse_dates=True)\n",
    "\n",
    "# Run the line below with no changes to check that you've loaded the data correctly\n",
    "step_1.check()"
   ]
  },
  {
   "cell_type": "code",
   "execution_count": 4,
   "id": "5ea1b6b7",
   "metadata": {
    "execution": {
     "iopub.execute_input": "2022-08-28T07:53:58.185857Z",
     "iopub.status.busy": "2022-08-28T07:53:58.184930Z",
     "iopub.status.idle": "2022-08-28T07:53:58.190299Z",
     "shell.execute_reply": "2022-08-28T07:53:58.188999Z"
    },
    "papermill": {
     "duration": 0.014781,
     "end_time": "2022-08-28T07:53:58.192505",
     "exception": false,
     "start_time": "2022-08-28T07:53:58.177724",
     "status": "completed"
    },
    "tags": []
   },
   "outputs": [],
   "source": [
    "# Uncomment the line below to receive a hint\n",
    "#step_1.hint()\n",
    "# Uncomment the line below to see the solution\n",
    "#step_1.solution()"
   ]
  },
  {
   "cell_type": "markdown",
   "id": "86186392",
   "metadata": {
    "papermill": {
     "duration": 0.005482,
     "end_time": "2022-08-28T07:53:58.203906",
     "exception": false,
     "start_time": "2022-08-28T07:53:58.198424",
     "status": "completed"
    },
    "tags": []
   },
   "source": [
    "## Step 2: Review the data\n",
    "\n",
    "Use a Python command to print the last 5 rows of the data."
   ]
  },
  {
   "cell_type": "code",
   "execution_count": 5,
   "id": "9b7cda0b",
   "metadata": {
    "execution": {
     "iopub.execute_input": "2022-08-28T07:53:58.217370Z",
     "iopub.status.busy": "2022-08-28T07:53:58.216942Z",
     "iopub.status.idle": "2022-08-28T07:53:58.232345Z",
     "shell.execute_reply": "2022-08-28T07:53:58.231167Z"
    },
    "papermill": {
     "duration": 0.024963,
     "end_time": "2022-08-28T07:53:58.234545",
     "exception": false,
     "start_time": "2022-08-28T07:53:58.209582",
     "status": "completed"
    },
    "tags": []
   },
   "outputs": [
    {
     "data": {
      "text/html": [
       "<div>\n",
       "<style scoped>\n",
       "    .dataframe tbody tr th:only-of-type {\n",
       "        vertical-align: middle;\n",
       "    }\n",
       "\n",
       "    .dataframe tbody tr th {\n",
       "        vertical-align: top;\n",
       "    }\n",
       "\n",
       "    .dataframe thead th {\n",
       "        text-align: right;\n",
       "    }\n",
       "</style>\n",
       "<table border=\"1\" class=\"dataframe\">\n",
       "  <thead>\n",
       "    <tr style=\"text-align: right;\">\n",
       "      <th></th>\n",
       "      <th>Avila Adobe</th>\n",
       "      <th>Firehouse Museum</th>\n",
       "      <th>Chinese American Museum</th>\n",
       "      <th>America Tropical Interpretive Center</th>\n",
       "    </tr>\n",
       "    <tr>\n",
       "      <th>Date</th>\n",
       "      <th></th>\n",
       "      <th></th>\n",
       "      <th></th>\n",
       "      <th></th>\n",
       "    </tr>\n",
       "  </thead>\n",
       "  <tbody>\n",
       "    <tr>\n",
       "      <th>2018-07-01</th>\n",
       "      <td>23136</td>\n",
       "      <td>4191</td>\n",
       "      <td>2620</td>\n",
       "      <td>4718</td>\n",
       "    </tr>\n",
       "    <tr>\n",
       "      <th>2018-08-01</th>\n",
       "      <td>20815</td>\n",
       "      <td>4866</td>\n",
       "      <td>2409</td>\n",
       "      <td>3891</td>\n",
       "    </tr>\n",
       "    <tr>\n",
       "      <th>2018-09-01</th>\n",
       "      <td>21020</td>\n",
       "      <td>4956</td>\n",
       "      <td>2146</td>\n",
       "      <td>3180</td>\n",
       "    </tr>\n",
       "    <tr>\n",
       "      <th>2018-10-01</th>\n",
       "      <td>19280</td>\n",
       "      <td>4622</td>\n",
       "      <td>2364</td>\n",
       "      <td>3775</td>\n",
       "    </tr>\n",
       "    <tr>\n",
       "      <th>2018-11-01</th>\n",
       "      <td>17163</td>\n",
       "      <td>4082</td>\n",
       "      <td>2385</td>\n",
       "      <td>4562</td>\n",
       "    </tr>\n",
       "  </tbody>\n",
       "</table>\n",
       "</div>"
      ],
      "text/plain": [
       "            Avila Adobe  Firehouse Museum  Chinese American Museum  \\\n",
       "Date                                                                 \n",
       "2018-07-01        23136              4191                     2620   \n",
       "2018-08-01        20815              4866                     2409   \n",
       "2018-09-01        21020              4956                     2146   \n",
       "2018-10-01        19280              4622                     2364   \n",
       "2018-11-01        17163              4082                     2385   \n",
       "\n",
       "            America Tropical Interpretive Center  \n",
       "Date                                              \n",
       "2018-07-01                                  4718  \n",
       "2018-08-01                                  3891  \n",
       "2018-09-01                                  3180  \n",
       "2018-10-01                                  3775  \n",
       "2018-11-01                                  4562  "
      ]
     },
     "execution_count": 5,
     "metadata": {},
     "output_type": "execute_result"
    }
   ],
   "source": [
    "# Print the last five rows of the data \n",
    "museum_data.tail()\n",
    "# Your code here"
   ]
  },
  {
   "cell_type": "markdown",
   "id": "812f3554",
   "metadata": {
    "papermill": {
     "duration": 0.00569,
     "end_time": "2022-08-28T07:53:58.246209",
     "exception": false,
     "start_time": "2022-08-28T07:53:58.240519",
     "status": "completed"
    },
    "tags": []
   },
   "source": [
    "The last row (for `2018-11-01`) tracks the number of visitors to each museum in November 2018, the next-to-last row (for `2018-10-01`) tracks the number of visitors to each museum in October 2018, _and so on_.\n",
    "\n",
    "Use the last 5 rows of the data to answer the questions below."
   ]
  },
  {
   "cell_type": "code",
   "execution_count": 6,
   "id": "c32aea98",
   "metadata": {
    "execution": {
     "iopub.execute_input": "2022-08-28T07:53:58.260108Z",
     "iopub.status.busy": "2022-08-28T07:53:58.259452Z",
     "iopub.status.idle": "2022-08-28T07:53:58.269442Z",
     "shell.execute_reply": "2022-08-28T07:53:58.267945Z"
    },
    "papermill": {
     "duration": 0.019534,
     "end_time": "2022-08-28T07:53:58.271613",
     "exception": false,
     "start_time": "2022-08-28T07:53:58.252079",
     "status": "completed"
    },
    "tags": []
   },
   "outputs": [
    {
     "data": {
      "application/javascript": [
       "parent.postMessage({\"jupyterEvent\": \"custom.exercise_interaction\", \"data\": {\"outcomeType\": 1, \"valueTowardsCompletion\": 0.3333333333333333, \"interactionType\": 1, \"questionType\": 1, \"questionId\": \"2_ReviewData\", \"learnToolsVersion\": \"0.3.4\", \"failureMessage\": \"\", \"exceptionClass\": \"\", \"trace\": \"\"}}, \"*\")"
      ],
      "text/plain": [
       "<IPython.core.display.Javascript object>"
      ]
     },
     "metadata": {},
     "output_type": "display_data"
    },
    {
     "data": {
      "text/markdown": [
       "<span style=\"color:#33cc33\">Correct</span>"
      ],
      "text/plain": [
       "Correct"
      ]
     },
     "metadata": {},
     "output_type": "display_data"
    }
   ],
   "source": [
    "# Fill in the line below: How many visitors did the Chinese American Museum \n",
    "# receive in July 2018?\n",
    "ca_museum_jul18 = 2620 \n",
    "\n",
    "# Fill in the line below: In October 2018, how many more visitors did Avila \n",
    "# Adobe receive than the Firehouse Museum?\n",
    "avila_oct18 = 14658\n",
    "\n",
    "# Check your answers\n",
    "step_2.check()"
   ]
  },
  {
   "cell_type": "code",
   "execution_count": 7,
   "id": "05e8e0ff",
   "metadata": {
    "execution": {
     "iopub.execute_input": "2022-08-28T07:53:58.286072Z",
     "iopub.status.busy": "2022-08-28T07:53:58.285650Z",
     "iopub.status.idle": "2022-08-28T07:53:58.290075Z",
     "shell.execute_reply": "2022-08-28T07:53:58.288894Z"
    },
    "papermill": {
     "duration": 0.014512,
     "end_time": "2022-08-28T07:53:58.292393",
     "exception": false,
     "start_time": "2022-08-28T07:53:58.277881",
     "status": "completed"
    },
    "tags": []
   },
   "outputs": [],
   "source": [
    "# Lines below will give you a hint or solution code\n",
    "#step_2.hint()\n",
    "#step_2.solution()"
   ]
  },
  {
   "cell_type": "markdown",
   "id": "a85bdfd4",
   "metadata": {
    "papermill": {
     "duration": 0.006626,
     "end_time": "2022-08-28T07:53:58.305188",
     "exception": false,
     "start_time": "2022-08-28T07:53:58.298562",
     "status": "completed"
    },
    "tags": []
   },
   "source": [
    "## Step 3: Convince the museum board \n",
    "\n",
    "The Firehouse Museum claims they ran an event in 2014 that brought an incredible number of visitors, and that they should get extra budget to run a similar event again.  The other museums think these types of events aren't that important, and budgets should be split purely based on recent visitors on an average day.  \n",
    "\n",
    "To show the museum board how the event compared to regular traffic at each museum, create a line chart that shows how the number of visitors to each museum evolved over time.  Your figure should have four lines (one for each museum).\n",
    "\n",
    "> **(Optional) Note**: If you have some prior experience with plotting figures in Python, you might be familiar with the `plt.show()` command.  If you decide to use this command, please place it **after** the line of code that checks your answer (in this case, place it after `step_3.check()` below) -- otherwise, the checking code will return an error!"
   ]
  },
  {
   "cell_type": "code",
   "execution_count": 8,
   "id": "0dfcc8f9",
   "metadata": {
    "execution": {
     "iopub.execute_input": "2022-08-28T07:53:58.319018Z",
     "iopub.status.busy": "2022-08-28T07:53:58.318607Z",
     "iopub.status.idle": "2022-08-28T07:53:58.684569Z",
     "shell.execute_reply": "2022-08-28T07:53:58.683601Z"
    },
    "papermill": {
     "duration": 0.376936,
     "end_time": "2022-08-28T07:53:58.688236",
     "exception": false,
     "start_time": "2022-08-28T07:53:58.311300",
     "status": "completed"
    },
    "tags": []
   },
   "outputs": [
    {
     "data": {
      "application/javascript": [
       "parent.postMessage({\"jupyterEvent\": \"custom.exercise_interaction\", \"data\": {\"outcomeType\": 1, \"valueTowardsCompletion\": 0.3333333333333333, \"interactionType\": 1, \"questionType\": 2, \"questionId\": \"3_PlotAll\", \"learnToolsVersion\": \"0.3.4\", \"failureMessage\": \"\", \"exceptionClass\": \"\", \"trace\": \"\"}}, \"*\")"
      ],
      "text/plain": [
       "<IPython.core.display.Javascript object>"
      ]
     },
     "metadata": {},
     "output_type": "display_data"
    },
    {
     "data": {
      "text/markdown": [
       "<span style=\"color:#33cc33\">Correct</span>"
      ],
      "text/plain": [
       "Correct"
      ]
     },
     "metadata": {},
     "output_type": "display_data"
    },
    {
     "data": {
      "image/png": "[encoded data removed]",
      "text/plain": [
       "<Figure size 864x432 with 1 Axes>"
      ]
     },
     "metadata": {
      "needs_background": "light"
     },
     "output_type": "display_data"
    }
   ],
   "source": [
    "# Line chart showing the number of visitors to each museum over time\n",
    "____ # Your code here\n",
    "plt.figure(figsize=(12,6))\n",
    "sns.lineplot(data=museum_data)\n",
    "plt.title(\"Monthly Visitors to Los Angeles City Museums\")\n",
    "\n",
    "# Check your answer\n",
    "step_3.check()\n",
    "plt.show()"
   ]
  },
  {
   "cell_type": "code",
   "execution_count": 9,
   "id": "8c39944f",
   "metadata": {
    "execution": {
     "iopub.execute_input": "2022-08-28T07:53:58.706573Z",
     "iopub.status.busy": "2022-08-28T07:53:58.705380Z",
     "iopub.status.idle": "2022-08-28T07:53:58.710263Z",
     "shell.execute_reply": "2022-08-28T07:53:58.709253Z"
    },
    "papermill": {
     "duration": 0.016231,
     "end_time": "2022-08-28T07:53:58.712770",
     "exception": false,
     "start_time": "2022-08-28T07:53:58.696539",
     "status": "completed"
    },
    "tags": []
   },
   "outputs": [],
   "source": [
    "# Lines below will give you a hint or solution code\n",
    "#step_3.hint()\n",
    "#step_3.solution_plot()"
   ]
  },
  {
   "cell_type": "markdown",
   "id": "d45e7c3d",
   "metadata": {
    "papermill": {
     "duration": 0.00736,
     "end_time": "2022-08-28T07:53:58.728078",
     "exception": false,
     "start_time": "2022-08-28T07:53:58.720718",
     "status": "completed"
    },
    "tags": []
   },
   "source": [
    "## Step 4: Assess seasonality\n",
    "\n",
    "When meeting with the employees at Avila Adobe, you hear that one major pain point is that the number of museum visitors varies greatly with the seasons, with low seasons (when the employees are perfectly staffed and happy) and also high seasons (when the employees are understaffed and stressed).  You realize that if you can predict these high and low seasons, you can plan ahead to hire some additional seasonal employees to help out with the extra work.\n",
    "\n",
    "#### Part A\n",
    "Create a line chart that shows how the number of visitors to Avila Adobe has evolved over time.  (_If your code returns an error, the first thing that you should check is that you've spelled the name of the column correctly!  You must write the name of the column exactly as it appears in the dataset._)"
   ]
  },
  {
   "cell_type": "code",
   "execution_count": 10,
   "id": "dba34779",
   "metadata": {
    "execution": {
     "iopub.execute_input": "2022-08-28T07:53:58.745096Z",
     "iopub.status.busy": "2022-08-28T07:53:58.744673Z",
     "iopub.status.idle": "2022-08-28T07:53:58.955838Z",
     "shell.execute_reply": "2022-08-28T07:53:58.954995Z"
    },
    "papermill": {
     "duration": 0.22283,
     "end_time": "2022-08-28T07:53:58.958482",
     "exception": false,
     "start_time": "2022-08-28T07:53:58.735652",
     "status": "completed"
    },
    "tags": []
   },
   "outputs": [
    {
     "name": "stdout",
     "output_type": "stream",
     "text": [
      "Thank you for creating a line chart!  To see how your code compares to the official solution, please use the code cell below.\n"
     ]
    },
    {
     "data": {
      "application/javascript": [
       "parent.postMessage({\"jupyterEvent\": \"custom.exercise_interaction\", \"data\": {\"outcomeType\": 1, \"valueTowardsCompletion\": 0.3333333333333333, \"interactionType\": 1, \"questionType\": 2, \"questionId\": \"4.1_PlotAvila\", \"learnToolsVersion\": \"0.3.4\", \"failureMessage\": \"\", \"exceptionClass\": \"\", \"trace\": \"\"}}, \"*\")"
      ],
      "text/plain": [
       "<IPython.core.display.Javascript object>"
      ]
     },
     "metadata": {},
     "output_type": "display_data"
    },
    {
     "data": {
      "text/markdown": [
       "<span style=\"color:#33cc33\">Correct</span>"
      ],
      "text/plain": [
       "Correct"
      ]
     },
     "metadata": {},
     "output_type": "display_data"
    },
    {
     "data": {
      "image/png": "[encoded data removed]",
      "text/plain": [
       "<Figure size 864x432 with 1 Axes>"
      ]
     },
     "metadata": {
      "needs_background": "light"
     },
     "output_type": "display_data"
    }
   ],
   "source": [
    "# Line plot showing the number of visitors to Avila Adobe over time\n",
    "____ # Your code here\n",
    "plt.figure(figsize=(12,6))\n",
    "plt.title(\"Monthly visitors to Avila Adobe\")\n",
    "sns.lineplot(data=museum_data[\"Avila Adobe\"])\n",
    "plt.xlabel(\"Date\")\n",
    "# Check your answer\n",
    "step_4.a.check()\n",
    "plt.show()"
   ]
  },
  {
   "cell_type": "code",
   "execution_count": 11,
   "id": "3dd6dad4",
   "metadata": {
    "execution": {
     "iopub.execute_input": "2022-08-28T07:53:58.978728Z",
     "iopub.status.busy": "2022-08-28T07:53:58.977618Z",
     "iopub.status.idle": "2022-08-28T07:53:58.982284Z",
     "shell.execute_reply": "2022-08-28T07:53:58.981243Z"
    },
    "papermill": {
     "duration": 0.017233,
     "end_time": "2022-08-28T07:53:58.984592",
     "exception": false,
     "start_time": "2022-08-28T07:53:58.967359",
     "status": "completed"
    },
    "tags": []
   },
   "outputs": [],
   "source": [
    "# Lines below will give you a hint or solution code\n",
    "#step_4.a.hint()\n",
    "#step_4.a.solution_plot()"
   ]
  },
  {
   "cell_type": "markdown",
   "id": "ba405113",
   "metadata": {
    "papermill": {
     "duration": 0.008289,
     "end_time": "2022-08-28T07:53:59.001458",
     "exception": false,
     "start_time": "2022-08-28T07:53:58.993169",
     "status": "completed"
    },
    "tags": []
   },
   "source": [
    "#### Part B\n",
    "\n",
    "Does Avila Adobe get more visitors:\n",
    "- in September-February (in LA, the fall and winter months), or \n",
    "- in March-August (in LA, the spring and summer)?  \n",
    "\n",
    "Using this information, when should the museum staff additional seasonal employees?"
   ]
  },
  {
   "cell_type": "code",
   "execution_count": 12,
   "id": "262de686",
   "metadata": {
    "execution": {
     "iopub.execute_input": "2022-08-28T07:53:59.020781Z",
     "iopub.status.busy": "2022-08-28T07:53:59.020327Z",
     "iopub.status.idle": "2022-08-28T07:53:59.025155Z",
     "shell.execute_reply": "2022-08-28T07:53:59.024009Z"
    },
    "papermill": {
     "duration": 0.01703,
     "end_time": "2022-08-28T07:53:59.027285",
     "exception": false,
     "start_time": "2022-08-28T07:53:59.010255",
     "status": "completed"
    },
    "tags": []
   },
   "outputs": [],
   "source": [
    "#step_4.b.hint()"
   ]
  },
  {
   "cell_type": "code",
   "execution_count": 13,
   "id": "3eaeb73a",
   "metadata": {
    "execution": {
     "iopub.execute_input": "2022-08-28T07:53:59.047720Z",
     "iopub.status.busy": "2022-08-28T07:53:59.046564Z",
     "iopub.status.idle": "2022-08-28T07:53:59.055967Z",
     "shell.execute_reply": "2022-08-28T07:53:59.054765Z"
    },
    "papermill": {
     "duration": 0.021778,
     "end_time": "2022-08-28T07:53:59.058133",
     "exception": false,
     "start_time": "2022-08-28T07:53:59.036355",
     "status": "completed"
    },
    "tags": []
   },
   "outputs": [
    {
     "data": {
      "application/javascript": [
       "parent.postMessage({\"jupyterEvent\": \"custom.exercise_interaction\", \"data\": {\"interactionType\": 3, \"questionType\": 4, \"questionId\": \"4.2_ThinkAvila\", \"learnToolsVersion\": \"0.3.4\", \"valueTowardsCompletion\": 0.0, \"failureMessage\": \"\", \"exceptionClass\": \"\", \"trace\": \"\", \"outcomeType\": 4}}, \"*\")"
      ],
      "text/plain": [
       "<IPython.core.display.Javascript object>"
      ]
     },
     "metadata": {},
     "output_type": "display_data"
    },
    {
     "data": {
      "text/markdown": [
       "<span style=\"color:#33cc99\">Solution:</span> The line chart generally dips to relatively low values around the early part of each year (in December and January), and reaches its highest values in the middle of the year (especially around May and June).  Thus, Avila Adobe usually gets more visitors in March-August (or the spring and summer months).  With this in mind, Avila Adobe could definitely benefit from hiring more seasonal employees to help with the extra work in March-August (the spring and summer)!"
      ],
      "text/plain": [
       "Solution: The line chart generally dips to relatively low values around the early part of each year (in December and January), and reaches its highest values in the middle of the year (especially around May and June).  Thus, Avila Adobe usually gets more visitors in March-August (or the spring and summer months).  With this in mind, Avila Adobe could definitely benefit from hiring more seasonal employees to help with the extra work in March-August (the spring and summer)!"
      ]
     },
     "metadata": {},
     "output_type": "display_data"
    }
   ],
   "source": [
    "# Check your answer (Run this code cell to receive credit!)\n",
    "step_4.b.solution()"
   ]
  },
  {
   "cell_type": "markdown",
   "id": "2d265489",
   "metadata": {
    "papermill": {
     "duration": 0.009036,
     "end_time": "2022-08-28T07:53:59.076053",
     "exception": false,
     "start_time": "2022-08-28T07:53:59.067017",
     "status": "completed"
    },
    "tags": []
   },
   "source": [
    "# Keep going\n",
    "\n",
    "Move on to learn about **[bar charts and heatmaps](https://www.kaggle.com/alexisbcook/bar-charts-and-heatmaps)** with a new dataset!"
   ]
  },
  {
   "cell_type": "markdown",
   "id": "a6dc1f2b",
   "metadata": {
    "papermill": {
     "duration": 0.008417,
     "end_time": "2022-08-28T07:53:59.093373",
     "exception": false,
     "start_time": "2022-08-28T07:53:59.084956",
     "status": "completed"
    },
    "tags": []
   },
   "source": [
    "---\n",
    "\n",
    "\n",
    "\n",
    "\n",
    "*Have questions or comments? Visit the [course discussion forum](https://www.kaggle.com/learn/data-visualization/discussion) to chat with other learners.*"
   ]
  }
 ],
 "metadata": {
  "kernelspec": {
   "display_name": "Python 3",
   "language": "python",
   "name": "python3"
  },
  "language_info": {
   "codemirror_mode": {
    "name": "ipython",
    "version": 3
   },
   "file_extension": ".py",
   "mimetype": "text/x-python",
   "name": "python",
   "nbconvert_exporter": "python",
   "pygments_lexer": "ipython3",
   "version": "3.7.12"
  },
  "papermill": {
   "default_parameters": {},
   "duration": 13.451624,
   "end_time": "2022-08-28T07:53:59.824929",
   "environment_variables": {},
   "exception": null,
   "input_path": "__notebook__.ipynb",
   "output_path": "__notebook__.ipynb",
   "parameters": {},
   "start_time": "2022-08-28T07:53:46.373305",
   "version": "2.3.4"
  }
 },
 "nbformat": 4,
 "nbformat_minor": 5
}
